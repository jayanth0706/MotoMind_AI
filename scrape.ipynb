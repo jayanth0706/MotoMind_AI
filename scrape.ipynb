{
 "cells": [
  {
   "cell_type": "code",
   "execution_count": 3,
   "id": "ab920f6d",
   "metadata": {},
   "outputs": [
    {
     "name": "stdout",
     "output_type": "stream",
     "text": [
      "Checking 39 URLs for new cars...\n",
      "\n"
     ]
    },
    {
     "name": "stderr",
     "output_type": "stream",
     "text": [
      "Scraping Progress: 100%|██████████| 39/39 [00:00<00:00, 11949.58it/s]"
     ]
    },
    {
     "name": "stdout",
     "output_type": "stream",
     "text": [
      "No new cars to scrape. Dataset is already up-to-date.\n"
     ]
    },
    {
     "name": "stderr",
     "output_type": "stream",
     "text": [
      "\n"
     ]
    }
   ],
   "source": [
    "from selenium import webdriver\n",
    "from selenium.webdriver.chrome.options import Options\n",
    "from selenium.webdriver.common.by import By\n",
    "from selenium.webdriver.support.ui import WebDriverWait\n",
    "from selenium.webdriver.support import expected_conditions as EC\n",
    "from bs4 import BeautifulSoup\n",
    "import pandas as pd\n",
    "import time\n",
    "from tqdm import tqdm # type: ignore\n",
    "import re\n",
    "import os\n",
    "\n",
    "\n",
    "def extract_car_company(url):\n",
    "    \"\"\"\n",
    "    Extracts the car company from the URL.\n",
    "    e.g., 'https://www.cardekho.com/maruti/invicto/specs' -> 'Maruti'\n",
    "    \"\"\"\n",
    "    match = re.search(r'cardekho\\.com/([^/]+)/', url)\n",
    "    return match.group(1).replace('-', ' ').title() if match else 'Unknown Company'\n",
    "\n",
    "\n",
    "def extract_car_name(url):\n",
    "    \"\"\"\n",
    "    Extracts the car name from the URL.\n",
    "    Handles both '/brand/car-name/specs' and '/brand/brand-car-name-specifications.htm'\n",
    "    \"\"\"\n",
    "    url = url.strip().lower()\n",
    "\n",
    "    # Case 1: Ends with '/specs'\n",
    "    match_specs = re.match(r'.*/([^/]+)/specs$', url)\n",
    "    if match_specs:\n",
    "        return match_specs.group(1).replace('-', ' ').title()\n",
    "\n",
    "    # Case 2: Ends with '-specifications.htm'\n",
    "    match_htm = re.search(r'/([^/]+)-specifications\\.htm$', url)\n",
    "    if match_htm:\n",
    "        car_name_part = match_htm.group(1)\n",
    "        # Remove repeating brand prefix (like 'maruti-') if present\n",
    "        brand = extract_car_company(url).lower().replace(' ', '-')\n",
    "        car_name = re.sub(rf'^{brand}-', '', car_name_part)\n",
    "        return car_name.replace('-', ' ').title()\n",
    "\n",
    "    return 'Unknown Car'\n",
    "\n",
    "\n",
    "\n",
    "def normalize_price_nlp(price_str):\n",
    "    if not isinstance(price_str, str):\n",
    "        return None\n",
    "\n",
    "    price_str = price_str.replace(\"Rs.\", \"\").replace(\",\", \"\").strip().lower()\n",
    "    price_str = re.sub(r'[^\\d.\\-–crlakcrores ]', '', price_str)  # Remove special characters\n",
    "\n",
    "    if '-' in price_str or '–' in price_str:\n",
    "        delimiter = '-' if '-' in price_str else '–'\n",
    "        parts = price_str.split(delimiter)\n",
    "        normalized_parts = []\n",
    "        for part in parts:\n",
    "            match = re.search(r'(\\d+\\.?\\d*)', part)\n",
    "            if match:\n",
    "                value = float(match.group(1))\n",
    "                if 'cr' in part or 'crore' in part:\n",
    "                    value *= 100  # Convert crore to lakh\n",
    "                normalized_parts.append(f\"{round(value, 2)}\")\n",
    "        return ' - '.join(normalized_parts) if normalized_parts else None\n",
    "    else:\n",
    "        match = re.search(r'(\\d+\\.?\\d*)', price_str)\n",
    "        if not match:\n",
    "            return None\n",
    "        value = float(match.group(1))\n",
    "        if 'cr' in price_str or 'crore' in price_str:\n",
    "            value *= 100\n",
    "        return f\"{round(value, 2)}\"\n",
    "\n",
    "\n",
    "\n",
    "\n",
    "def scrape_car_specs(url, serial_number):\n",
    "    options = Options()\n",
    "    options.add_argument(\"--headless=new\")\n",
    "    options.add_argument(\"--disable-blink-features=AutomationControlled\")\n",
    "    options.add_argument(\"--disable-gpu\")\n",
    "    options.add_argument(\"--window-size=1920,1080\")\n",
    "    options.add_argument(\"--no-sandbox\")\n",
    "    options.add_argument(\"--disable-dev-shm-usage\")\n",
    "\n",
    "    driver = webdriver.Chrome(options=options)\n",
    "\n",
    "    try:\n",
    "        driver.get(url)\n",
    "        WebDriverWait(driver, 20).until(\n",
    "            EC.presence_of_element_located((By.CSS_SELECTOR, \"table\"))\n",
    "        )\n",
    "        time.sleep(2)\n",
    "\n",
    "        soup = BeautifulSoup(driver.page_source, 'html.parser')\n",
    "        car_name = extract_car_name(url)\n",
    "        car_company = extract_car_company(url)\n",
    "            \n",
    "\n",
    "        key_specs = {\n",
    "            'S.no': serial_number,\n",
    "            'Car Name': car_name,\n",
    "            'Car Company': car_company,\n",
    "            'Car Image': '',\n",
    "            'ARAI Mileage': '',\n",
    "            'Fuel Type': '',\n",
    "            'Engine Displacement': '',\n",
    "            'No. of Cylinders': '',\n",
    "            'Max Power': '',\n",
    "            'Max Torque': '',\n",
    "            'Seating Capacity': '',\n",
    "            'Transmission Type': '',\n",
    "            'Fuel Tank Capacity': '',\n",
    "            'Body Type': '',\n",
    "            'Price': ''\n",
    "        }\n",
    "\n",
    "        # Extract specs\n",
    "        spec_tables = soup.find_all('table')\n",
    "        for table in spec_tables:\n",
    "            rows = table.find_all('tr')\n",
    "            for row in rows:\n",
    "                cols = row.find_all(['td', 'th'])\n",
    "                if len(cols) == 2:\n",
    "                    spec_name = cols[0].text.strip()\n",
    "                    spec_value = cols[1].text.strip()\n",
    "                    if spec_name in key_specs:\n",
    "                        key_specs[spec_name] = spec_value\n",
    "        \n",
    "        \n",
    "        # Improved image extraction - handles lazy-loaded images\n",
    "        image_url = ''\n",
    "        all_imgs = soup.find_all('img')\n",
    "\n",
    "        for img in all_imgs:\n",
    "            src = img.get('data-src') or img.get('src') or ''\n",
    "            alt = img.get('alt', '').lower()\n",
    "            src = src.strip()\n",
    "            if src and (\n",
    "                'car' in alt\n",
    "                or 'car' in src\n",
    "                or car_name.lower() in alt\n",
    "                or car_company.lower() in alt\n",
    "            ):\n",
    "                image_url = src\n",
    "                break\n",
    "\n",
    "        # Fallback - try specific sections\n",
    "        if not image_url:\n",
    "            possible_sections = [\n",
    "                soup.find('div', class_='imgSection'),\n",
    "                soup.find('div', class_='overviewImg'),\n",
    "                soup.find('figure'),\n",
    "            ]\n",
    "            for section in possible_sections:\n",
    "                if section:\n",
    "                    img_tag = section.find('img')\n",
    "                    if img_tag:\n",
    "                        image_url = img_tag.get('data-src') or img_tag.get('src') or ''\n",
    "                        if image_url:\n",
    "                            break\n",
    "\n",
    "        key_specs['Car Image'] = image_url\n",
    "\n",
    "\n",
    "\n",
    "        # Extract price\n",
    "        price = ''\n",
    "        price_tag = soup.find('div', class_='price')\n",
    "        if price_tag:\n",
    "            price = price_tag.get_text(strip=True)\n",
    "        else:\n",
    "            alt_price_tag = soup.find('div', class_='priceSection')\n",
    "            if alt_price_tag:\n",
    "                price = alt_price_tag.get_text(strip=True)\n",
    "\n",
    "        normalized_price = normalize_price_nlp(price)\n",
    "        key_specs['Price'] = normalized_price if normalized_price else price.rstrip('*').strip()\n",
    "        return key_specs\n",
    "\n",
    "    except Exception as e:\n",
    "        print(f\"Error scraping {url}: {e}\")\n",
    "        return None\n",
    "    finally:\n",
    "        driver.quit()\n",
    "\n",
    "        \n",
    "output_filename = 'CarsDataset.csv'\n",
    "existing_data = pd.DataFrame()\n",
    "if os.path.exists(output_filename):\n",
    "    existing_data = pd.read_csv(output_filename)\n",
    "\n",
    "if not existing_data.empty and 'Car Name' in existing_data.columns and 'Car Company' in existing_data.columns:\n",
    "    existing_entries = set(\n",
    "        zip(existing_data['Car Name'].str.lower(), existing_data['Car Company'].str.lower())\n",
    "    )\n",
    "else:\n",
    "    existing_entries = set()\n",
    "\n",
    "\n",
    "urls = [\n",
    "    # Maruti Cars URLs\n",
    "    'https://www.cardekho.com/maruti/swift/specs',\n",
    "    'https://www.cardekho.com/maruti/maruti-ertiga-specifications.htm',\n",
    "    'https://www.cardekho.com/maruti/fronx/specs',\n",
    "    'https://www.cardekho.com/maruti/brezza/specs',\n",
    "    'https://www.cardekho.com/maruti/dzire/specs',\n",
    "    'https://www.cardekho.com/maruti/maruti-grand-vitara-specifications.htm',\n",
    "    'https://www.cardekho.com/maruti/maruti-baleno-specifications.htm',\n",
    "    'https://www.cardekho.com/maruti/wagon-r/specs',\n",
    "    'https://www.cardekho.com/maruti/alto-k10/specs',\n",
    "    'https://www.cardekho.com/maruti/jimny/specs',\n",
    "    'https://www.cardekho.com/maruti/maruti-celerio-specifications.htm',\n",
    "    'https://www.cardekho.com/maruti/xl6/specs',\n",
    "    'https://www.cardekho.com/maruti/maruti-ignis-specifications.htm',\n",
    "    'https://www.cardekho.com/maruti/maruti-eeco-specifications.htm',\n",
    "    'https://www.cardekho.com/maruti/s-presso/specs',\n",
    "    'https://www.cardekho.com/maruti/maruti-ciaz-specifications.htm',\n",
    "    'https://www.cardekho.com/maruti/invicto/specs',\n",
    "    'https://www.cardekho.com/maruti/dzire-tour-s/specs',\n",
    "    'https://www.cardekho.com/maruti/ertiga-tour/specs',\n",
    "    'https://www.cardekho.com/maruti/alto-tour-h1/specs',\n",
    "    'https://www.cardekho.com/maruti/eeco-cargo/specs',\n",
    "    'https://www.cardekho.com/maruti/wagon-r-tour/specs',\n",
    "    # Toyota Cars URLs\n",
    "    'https://www.cardekho.com/toyota/toyota-fortuner-specifications.htm',\n",
    "    'https://www.cardekho.com/toyota/innova-crysta/specs',\n",
    "    'https://www.cardekho.com/toyota/hyryder/specs',\n",
    "    'https://www.cardekho.com/toyota/land-cruiser-300/specs',\n",
    "    'https://www.cardekho.com/toyota/hilux/specs',\n",
    "    'https://www.cardekho.com/toyota/camry/specs',\n",
    "    'https://www.cardekho.com/toyota/glanza/specs',\n",
    "    'https://www.cardekho.com/toyota/innova-hycross/specs',\n",
    "    'https://www.cardekho.com/toyota/vellfire/specs',\n",
    "    'https://www.cardekho.com/toyota/taisor/specs',\n",
    "    'https://www.cardekho.com/toyota/toyota-rumion-specifications.htm',\n",
    "    'https://www.cardekho.com/toyota/fortuner-legender/specs',\n",
    "    # Honda Cars URLs\n",
    "    'https://www.cardekho.com/honda/city/specs',\n",
    "    'https://www.cardekho.com/honda/amaze/specs',\n",
    "    'https://www.cardekho.com/honda/elevate/specs',\n",
    "    'https://www.cardekho.com/honda/city-hybrid/specs',\n",
    "    'https://www.cardekho.com/honda/amaze-2nd-gen/specs'\n",
    "]\n",
    "\n",
    "all_data = []\n",
    "print(f\"Checking {len(urls)} URLs for new cars...\\n\")\n",
    "serial_number = len(existing_data) + 1\n",
    "\n",
    "for url in tqdm(urls, desc=\"Scraping Progress\"):\n",
    "    car_name = extract_car_name(url).lower()\n",
    "    car_company = extract_car_company(url).lower()\n",
    "\n",
    "    if (car_name, car_company) in existing_entries:\n",
    "        continue  # already scraped\n",
    "\n",
    "    result = scrape_car_specs(url, serial_number)\n",
    "    if result:\n",
    "        all_data.append(result)\n",
    "        existing_entries.add((car_name, car_company))\n",
    "        serial_number += 1\n",
    "\n",
    "if all_data:\n",
    "    new_df = pd.DataFrame(all_data)\n",
    "    final_df = pd.concat([existing_data, new_df], ignore_index=True)\n",
    "    try:\n",
    "        final_df.to_csv(output_filename, index=False)\n",
    "        print(f\"\\nScraped {len(new_df)} new entries. Total: {len(final_df)} rows in '{output_filename}'.\")\n",
    "    except PermissionError:\n",
    "        print(f\"Permission denied: Close '{output_filename}' and retry.\")\n",
    "else:\n",
    "    print(\"No new cars to scrape. Dataset is already up-to-date.\")\n"
   ]
  },
  {
   "cell_type": "markdown",
   "id": "4de1182a",
   "metadata": {},
   "source": [
    "# Missing Values of ARAI Mileage"
   ]
  },
  {
   "cell_type": "code",
   "execution_count": 4,
   "id": "f0c095cc",
   "metadata": {},
   "outputs": [
    {
     "name": "stdout",
     "output_type": "stream",
     "text": [
      "Rows with missing ARAI Mileage:\n",
      "\n",
      "Empty DataFrame\n",
      "Columns: [S.no, Car Name, Car Company]\n",
      "Index: []\n"
     ]
    }
   ],
   "source": [
    "df = pd.read_csv(\"CarsDataset.csv\")\n",
    "\n",
    "# Show rows with missing ARAI Mileage\n",
    "missing_mileage = df[df['ARAI Mileage'].isnull() | (df['ARAI Mileage'].str.strip() == '')]\n",
    "print(\"Rows with missing ARAI Mileage:\\n\")\n",
    "print(missing_mileage[['S.no', 'Car Name', 'Car Company']])"
   ]
  },
  {
   "cell_type": "code",
   "execution_count": 5,
   "id": "2e58a8a0",
   "metadata": {},
   "outputs": [],
   "source": [
    "# Example: Manually updating ARAI Mileage values\n",
    "df.loc[df['Car Name'] == 'Fortuner', 'ARAI Mileage'] = '14.4 kmpl'\n",
    "df.loc[df['Car Name'] == 'Innova Crysta', 'ARAI Mileage'] = '14 kmpl'\n",
    "df.loc[df['Car Name'] == 'Hilux', 'ARAI Mileage'] = '10.4 kmpl'\n",
    "df.loc[df['Car Name'] == 'Vellfire', 'ARAI Mileage'] = '19.28 kmpl'\n",
    "df.loc[df['Car Name'] == 'Fortuner Legender', 'ARAI Mileage'] = '14.4 kmpl'"
   ]
  },
  {
   "cell_type": "code",
   "execution_count": 6,
   "id": "efdafc41",
   "metadata": {},
   "outputs": [
    {
     "name": "stdout",
     "output_type": "stream",
     "text": [
      "Updated ARAI Mileage values saved.\n"
     ]
    }
   ],
   "source": [
    "df.to_csv(\"CarsDataset.csv\", index=False)\n",
    "print(\"Updated ARAI Mileage values saved.\")"
   ]
  },
  {
   "cell_type": "markdown",
   "id": "4bfbc230",
   "metadata": {},
   "source": [
    "# Missing Values of Fuel Tank Capacity"
   ]
  },
  {
   "cell_type": "code",
   "execution_count": 7,
   "id": "97bd4f05",
   "metadata": {},
   "outputs": [
    {
     "name": "stdout",
     "output_type": "stream",
     "text": [
      "Rows with missing Fuel Tank Capacity:\n",
      "\n",
      "    S.no     Car Name Car Company\n",
      "34    35         City       Honda\n",
      "37    38  City Hybrid       Honda\n"
     ]
    }
   ],
   "source": [
    "# Show rows with missing Fuel Tank Capacity\n",
    "missing_fuel_tank_capacity = df[df['Fuel Tank Capacity'].isnull() | (df['Fuel Tank Capacity'].str.strip() == '')]\n",
    "print(\"Rows with missing Fuel Tank Capacity:\\n\")\n",
    "print(missing_fuel_tank_capacity[['S.no', 'Car Name', 'Car Company']])"
   ]
  },
  {
   "cell_type": "code",
   "execution_count": 8,
   "id": "09413bae",
   "metadata": {},
   "outputs": [],
   "source": [
    "# Example: Manually updating Fuel Tank Capacity values\n",
    "df.loc[df['Car Name'] == 'Dzire Tour S', 'Fuel Tank Capacity'] = '55 liters'\n",
    "df.loc[df['Car Name'] == 'Fortuner Legender', 'Fuel Tank Capacity'] = '80 liters'"
   ]
  },
  {
   "cell_type": "code",
   "execution_count": 9,
   "id": "4c347c16",
   "metadata": {},
   "outputs": [
    {
     "name": "stdout",
     "output_type": "stream",
     "text": [
      "Updated Fuel Tank Capacity values saved.\n"
     ]
    }
   ],
   "source": [
    "df.to_csv(\"CarsDataset.csv\", index=False)\n",
    "print(\"Updated Fuel Tank Capacity values saved.\")"
   ]
  },
  {
   "cell_type": "markdown",
   "id": "e8dbc376",
   "metadata": {},
   "source": [
    "# Updating the Car Images"
   ]
  },
  {
   "cell_type": "code",
   "execution_count": 10,
   "id": "a2e387e6",
   "metadata": {},
   "outputs": [],
   "source": [
    "df.loc[df['Car Name'] == 'Swift', 'Car Image'] = \"https://stimg.cardekho.com/images/carexteriorimages/930x620/Maruti/Swift/9226/1751527616116/front-left-side-47.jpg\"\n",
    "df.loc[df['Car Name'] == 'Ertiga', 'Car Image'] = \"https://foujiadda.in/admin/uploads/vehicle/image1701185191.jpg\"\n",
    "df.loc[df['Car Name'] == 'Fronx', 'Car Image'] = \"https://images.timesdrive.in/photo/msid-151016779,thumbsize-364787,width-560,height-250,false/151016779.jpg\"\n",
    "df.loc[df['Car Name'] == 'Brezza', 'Car Image'] = \"https://stimg.cardekho.com/images/carexteriorimages/930x620/Maruti/Brezza/10387/1753880871331/front-left-side-47.jpg\"\n",
    "df.loc[df['Car Name'] == 'Dzire', 'Car Image'] = \"https://images.autox.com/uploads/cars/2024/11/maruti-suzuki-dzire-500x261.jpg\"\n",
    "df.loc[df['Car Name'] == 'Grand Vitara', 'Car Image'] = \"https://www.varunmaruti.com/uploads/products/colors/grandvitara-midnight-black1.png\"\n",
    "df.loc[df['Car Name'] == 'Baleno', 'Car Image'] = \"https://stimg.cardekho.com/images/carexteriorimages/930x620/Maruti/Baleno/10497/1697697558001/front-left-side-47.jpg\"\n",
    "df.loc[df['Car Name'] == 'Wagon R', 'Car Image'] = \"https://stimg.cardekho.com/images/carexteriorimages/930x620/Maruti/Wagon-R/10363/1741236373749/exterior-image-166.jpg\"\n",
    "df.loc[df['Car Name'] == 'Alto K10', 'Car Image'] = \"https://www.seyieauto.com/wp-content/uploads/2023/02/alto-k10-white.jpg\"\n",
    "df.loc[df['Car Name'] == 'Jimny', 'Car Image'] = \"https://www.evoindia.com/h-upload/uid/BEiXA1vEBLzh75XwuZCOGnS2EJ1RksHK.jpg\"\n",
    "df.loc[df['Car Name'] == 'Celerio', 'Car Image'] = \"https://financialexpresswpcontent.s3.amazonaws.com/uploads/2021/11/Celerio-2.jpg\"\n",
    "df.loc[df['Car Name'] == 'Xl6', 'Car Image'] = \"https://stimg.cardekho.com/images/carexteriorimages/930x620/Maruti/XL6/10378/1741241176726/front-left-side-47.jpg\"\n",
    "df.loc[df['Car Name'] == 'Ignis', 'Car Image'] = \"https://stimg.cardekho.com/images/carexteriorimages/630x420/Maruti/Ignis/10318/1738298075884/front-left-side-47.jpg\"\n",
    "df.loc[df['Car Name'] == 'Eeco', 'Car Image'] = \"https://stimg.cardekho.com/images/carexteriorimages/930x620/Maruti/Eeco/10376/1708671417179/front-left-side-47.jpg\"\n",
    "df.loc[df['Car Name'] == 'S Presso', 'Car Image'] = \"https://stimg.cardekho.com/images/carexteriorimages/930x620/Maruti/S-Presso/10348/Maruti-S-Presso-LXi/1687519307943/front-left-side-47.jpg\"\n",
    "df.loc[df['Car Name'] == 'Ciaz', 'Car Image'] = \"https://stimg.cardekho.com/images/carexteriorimages/930x620/Maruti/Ciaz/10346/1738211238794/front-left-side-47.jpg\"\n",
    "df.loc[df['Car Name'] == 'Invicto', 'Car Image'] = \"https://stimg.cardekho.com/images/carexteriorimages/930x620/Maruti/Invicto/9483/1688547077223/front-left-side-47.jpg\"\n",
    "df.loc[df['Car Name'] == 'Dzire Tour S', 'Car Image'] = \"https://stimg.cardekho.com/images/car-images/930x620/Maruti/Dzire-Tour-S/12461/1742387359920/Arctic-White_d6d9de.jpg\"\n",
    "df.loc[df['Car Name'] == 'Ertiga Tour', 'Car Image'] = \"https://stimg.cardekho.com/images/carexteriorimages/930x620/Maruti/Ertiga-Tour/9617/1741068787046/front-left-side-47.jpg\"\n",
    "df.loc[df['Car Name'] == 'Alto Tour H1', 'Car Image'] = \"https://stimg.cardekho.com/images/carexteriorimages/930x620/Maruti/Alto-Tour-H1/12517/1745058103119/front-left-side-47.jpg\"\n",
    "df.loc[df['Car Name'] == 'Eeco Cargo', 'Car Image'] = \"https://stimg.cardekho.com/images/carexteriorimages/930x620/Maruti/Eeco-Cargo/9449/1675860460463/front-left-side-47.jpg\"\n",
    "df.loc[df['Car Name'] == 'Wagon R Tour', 'Car Image'] = \"https://stimg.cardekho.com/images/carexteriorimages/930x620/Maruti/Wagon-R-tour/9442/1675922710720/front-left-side-47.jpg\"\n",
    "df.loc[df['Car Name'] == 'Fortuner', 'Car Image'] = \"https://spn-sta.spinny.com/blog/20221202123514/Toyota-Fortuner.jpg\"\n",
    "df.loc[df['Car Name'] == 'Innova Crysta', 'Car Image'] = \"https://stimg.cardekho.com/images/carexteriorimages/930x620/Toyota/Innova-Crysta/9612/1697698611076/front-left-side-47.jpg\"\n",
    "df.loc[df['Car Name'] == 'Hyryder', 'Car Image'] = \"https://stimg.cardekho.com/images/carexteriorimages/930x620/Toyota/Hyryder/10910/1744114238786/front-left-side-47.jpg\"\n",
    "df.loc[df['Car Name'] == 'Land Cruiser 300', 'Car Image'] = \"https://stimg.cardekho.com/images/carexteriorimages/930x620/Toyota/Land-Cruiser-300/8448/1750750759371/front-left-side-47.jpg\"\n",
    "df.loc[df['Car Name'] == 'Hilux', 'Car Image'] = \"https://stimg.cardekho.com/images/carexteriorimages/930x620/Toyota/Hilux/10924/1691990326111/front-left-side-47.jpg\"\n",
    "df.loc[df['Car Name'] == 'Camry', 'Car Image'] = \"https://stimg.cardekho.com/images/carexteriorimages/930x620/Toyota/Camry/11344/1733916451269/front-left-side-47.jpg\"\n",
    "df.loc[df['Car Name'] == 'Glanza', 'Car Image'] = \"https://stimg.cardekho.com/images/carexteriorimages/930x620/Toyota/Glanza/10231/1686812796183/front-left-side-47.jpg\"\n",
    "df.loc[df['Car Name'] == 'Innova Hycross', 'Car Image'] = \"https://stimg.cardekho.com/images/carexteriorimages/930x620/Toyota/Innova-Hycross/10929/1749732632021/front-left-side-47.jpg\"\n",
    "df.loc[df['Car Name'] == 'Vellfire', 'Car Image'] = \"https://stimg.cardekho.com/images/carexteriorimages/930x620/Toyota/Vellfire/10337/1749879912109/front-left-side-47.jpg\"\n",
    "df.loc[df['Car Name'] == 'Taisor', 'Car Image'] = \"https://stimg.cardekho.com/images/carexteriorimages/930x620/Toyota/Taisor/11606/1741756199300/front-left-side-47.jpg\"\n",
    "df.loc[df['Car Name'] == 'Rumion', 'Car Image'] = \"https://stimg.cardekho.com/images/carexteriorimages/930x620/Toyota/Rumion/8650/1741755317177/front-left-side-47.jpg\"\n",
    "df.loc[df['Car Name'] == 'Fortuner Legender', 'Car Image'] = \"https://stimg.cardekho.com/images/carexteriorimages/930x620/Toyota/Fortuner-Legender/10229/1749726924621/front-left-side-47.jpg\"\n",
    "df.loc[df['Car Name'] == 'City', 'Car Image'] = \"https://stimg.cardekho.com/images/carexteriorimages/930x620/Honda/City/12667/1750410975226/front-left-side-47.jpg\"\n",
    "df.loc[df['Car Name'] == 'Amaze', 'Car Image'] = \"https://stimg.cardekho.com/images/carexteriorimages/930x620/Honda/Amaze/12185/1751289124905/front-left-side-47.jpg\"\n",
    "df.loc[df['Car Name'] == 'Elevate', 'Car Image'] = \"https://stimg.cardekho.com/images/carexteriorimages/930x620/Honda/Elevate/9533/1751533499774/front-left-side-47.jpg\"\n",
    "df.loc[df['Car Name'] == 'City Hybrid', 'Car Image'] = \"https://media.zigcdn.com/media/model/2023/Mar/city-e-hev_360x240.jpg\"\n",
    "df.loc[df['Car Name'] == 'Amaze 2Nd Gen', 'Car Image'] = \"https://stimg.cardekho.com/images/carexteriorimages/930x620/Honda/Amaze-2nd-Gen/10519/1754477167669/front-left-side-47.jpg\"\n",
    "# df.loc[df['Car Name'] == '', 'Car Image'] = \"\"\n"
   ]
  },
  {
   "cell_type": "code",
   "execution_count": 11,
   "id": "58fd8724",
   "metadata": {},
   "outputs": [
    {
     "name": "stdout",
     "output_type": "stream",
     "text": [
      "Updated Car Images are saved.\n"
     ]
    }
   ],
   "source": [
    "df.to_csv(\"CarsDataset.csv\", index=False)\n",
    "print(\"Updated Car Images are saved.\")"
   ]
  },
  {
   "cell_type": "markdown",
   "id": "e6d6e441",
   "metadata": {},
   "source": [
    "# Fixing Values of Car Price"
   ]
  },
  {
   "cell_type": "code",
   "execution_count": 12,
   "id": "ea0f0007",
   "metadata": {},
   "outputs": [],
   "source": [
    "df.loc[df['Car Name'] == 'Hilux', 'Price in Lakhs'] = '304.0 - 379.0'\n",
    "df.loc[df['Car Name'] == 'Vellfire', 'Price in Lakhs'] = '122.0 - 132.0'\n",
    "df.loc[df['Car Name'] == 'Land Cruiser 300', 'Price in Lakhs'] = '231.0 - 241.0'"
   ]
  },
  {
   "cell_type": "code",
   "execution_count": 13,
   "id": "8d5e20f5",
   "metadata": {},
   "outputs": [
    {
     "name": "stdout",
     "output_type": "stream",
     "text": [
      "Updated Prices are saved.\n"
     ]
    }
   ],
   "source": [
    "df.to_csv(\"CarsDataset.csv\", index=False)\n",
    "print(\"Updated Prices are saved.\")"
   ]
  },
  {
   "cell_type": "code",
   "execution_count": null,
   "id": "e1572893",
   "metadata": {},
   "outputs": [],
   "source": []
  }
 ],
 "metadata": {
  "kernelspec": {
   "display_name": "Python 3",
   "language": "python",
   "name": "python3"
  },
  "language_info": {
   "codemirror_mode": {
    "name": "ipython",
    "version": 3
   },
   "file_extension": ".py",
   "mimetype": "text/x-python",
   "name": "python",
   "nbconvert_exporter": "python",
   "pygments_lexer": "ipython3",
   "version": "3.11.0"
  }
 },
 "nbformat": 4,
 "nbformat_minor": 5
}
